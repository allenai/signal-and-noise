version https://git-lfs.github.com/spec/v1
oid sha256:b83304ed17112843d95b8b47ff5215cdd39f7c9ceee1efec6faf0e0ae1885bdc
size 507458
