version https://git-lfs.github.com/spec/v1
oid sha256:5e60bf1eae1cd42ed8a6a44ec44a82682754bb2ea9a439010e8a1b2ffc93721c
size 1400418
