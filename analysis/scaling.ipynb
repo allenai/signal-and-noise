version https://git-lfs.github.com/spec/v1
oid sha256:0cf7a337360a55a9ba8dc75a22893fd6a43e3eba800a25bedef73fdcc634ab22
size 4534616
