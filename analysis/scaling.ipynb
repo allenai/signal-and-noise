version https://git-lfs.github.com/spec/v1
oid sha256:e45073217a4c6a71a82a5588484b9c11e69ba6810e52484e80070bb8dedf17bd
size 4563363
