version https://git-lfs.github.com/spec/v1
oid sha256:8c70d18cad0e84ff626ca1e1df2c4d3592b469e73cf9d7229ea39f8b84fdc145
size 1998282
